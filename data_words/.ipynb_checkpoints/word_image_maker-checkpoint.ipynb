{
 "cells": [
  {
   "cell_type": "code",
   "execution_count": 1,
   "metadata": {},
   "outputs": [],
   "source": [
    "import numpy as np \n",
    "import pandas as pd \n",
    "import cv2\n",
    "import h5py\n",
    "import os\n",
    "from glob import glob\n",
    "\n"
   ]
  },
  {
   "cell_type": "code",
   "execution_count": 2,
   "metadata": {},
   "outputs": [
    {
     "name": "stdout",
     "output_type": "stream",
     "text": [
      "0\n",
      "nan\n"
     ]
    },
    {
     "name": "stderr",
     "output_type": "stream",
     "text": [
      "/usr/local/lib/python3.6/dist-packages/numpy/core/fromnumeric.py:3118: RuntimeWarning: Mean of empty slice.\n",
      "  out=out, **kwargs)\n",
      "/usr/local/lib/python3.6/dist-packages/numpy/core/_methods.py:85: RuntimeWarning: invalid value encountered in double_scalars\n",
      "  ret = ret.dtype.type(ret / rcount)\n"
     ]
    }
   ],
   "source": [
    "path = os.path.abspath('.')\n",
    "path = os.path.join(path,'words')\n",
    "path1 = os.path.join(path,'a01','a01-000u')\n",
    "lst = sorted(glob(os.path.join(path,\"*\")))\n",
    "# print(lst)\n",
    "\n",
    "\n",
    "count =0;\n",
    "avg = []\n",
    "i =0\n",
    "\n",
    "# for d in lst:\n",
    "#     print(i)\n",
    "#     i = i+1\n",
    "#     inside = sorted(glob(os.path.join(d,\"*\")))\n",
    "#     for x in inside:\n",
    "#         img_lst = sorted(glob(os.path.join(x,\"*.png\")))\n",
    "#         count += len(img_lst)\n",
    "#         for img in img_lst:\n",
    "#             mat = cv2.imread(img)\n",
    "#             if mat is not None:\n",
    "#                 avg.append(mat.shape)\n",
    "            \n",
    "\n",
    "            \n",
    "print(count)\n",
    "avg = np.array(avg)\n",
    "print(np.mean(avg,axis=0))"
   ]
  },
  {
   "cell_type": "code",
   "execution_count": 3,
   "metadata": {},
   "outputs": [],
   "source": [
    "# print(np.max(avg,axis=0))\n",
    "# print(np.min(avg,axis=0))\n",
    "images = glob(os.path.join(path1,'*.png'))\n",
    "# images = os.listdir(path)\n",
    "# print(sorted(images))\n"
   ]
  },
  {
   "cell_type": "code",
   "execution_count": 4,
   "metadata": {},
   "outputs": [
    {
     "name": "stdout",
     "output_type": "stream",
     "text": [
      "[159  28]\n"
     ]
    }
   ],
   "source": [
    "def get_factored_shape(w,h,img_w,img_h):\n",
    "    f_w = img_w/w\n",
    "    f_h = img_h/h\n",
    "    r = max(f_w,f_h)\n",
    "    new_img_w = img_w//r\n",
    "    new_img_h = img_h//r\n",
    "    return (int(new_img_w),int(new_img_h))\n",
    "\n",
    "\n",
    "a = get_factored_shape(160,64,1934,342)\n",
    "print(np.array(a))  "
   ]
  },
  {
   "cell_type": "code",
   "execution_count": 26,
   "metadata": {},
   "outputs": [
    {
     "name": "stdout",
     "output_type": "stream",
     "text": [
      "(72, 173)\n",
      "(48, 192)\n"
     ]
    },
    {
     "ename": "error",
     "evalue": "OpenCV(4.1.0) /io/opencv/modules/core/src/matrix_operations.cpp:68: error: (-215:Assertion failed) src[i].dims <= 2 && src[i].rows == src[0].rows && src[i].type() == src[0].type() in function 'hconcat'\n",
     "output_type": "error",
     "traceback": [
      "\u001b[0;31m---------------------------------------------------------------------------\u001b[0m",
      "\u001b[0;31merror\u001b[0m                                     Traceback (most recent call last)",
      "\u001b[0;32m<ipython-input-26-c89d099120ff>\u001b[0m in \u001b[0;36m<module>\u001b[0;34m\u001b[0m\n\u001b[1;32m     23\u001b[0m     \u001b[0mprint\u001b[0m\u001b[0;34m(\u001b[0m\u001b[0mimg2\u001b[0m\u001b[0;34m.\u001b[0m\u001b[0mshape\u001b[0m\u001b[0;34m)\u001b[0m\u001b[0;34m\u001b[0m\u001b[0;34m\u001b[0m\u001b[0m\n\u001b[1;32m     24\u001b[0m \u001b[0;34m\u001b[0m\u001b[0m\n\u001b[0;32m---> 25\u001b[0;31m     \u001b[0mfinal_frame\u001b[0m \u001b[0;34m=\u001b[0m \u001b[0mcv2\u001b[0m\u001b[0;34m.\u001b[0m\u001b[0mhconcat\u001b[0m\u001b[0;34m(\u001b[0m\u001b[0;34m(\u001b[0m\u001b[0mimg1\u001b[0m\u001b[0;34m,\u001b[0m \u001b[0mimg2\u001b[0m\u001b[0;34m)\u001b[0m\u001b[0;34m)\u001b[0m\u001b[0;34m\u001b[0m\u001b[0;34m\u001b[0m\u001b[0m\n\u001b[0m\u001b[1;32m     26\u001b[0m     \u001b[0mcv2\u001b[0m\u001b[0;34m.\u001b[0m\u001b[0mimshow\u001b[0m\u001b[0;34m(\u001b[0m\u001b[0;34m\"image1\"\u001b[0m\u001b[0;34m,\u001b[0m\u001b[0mfinal_frame\u001b[0m\u001b[0;34m)\u001b[0m\u001b[0;34m\u001b[0m\u001b[0;34m\u001b[0m\u001b[0m\n\u001b[1;32m     27\u001b[0m     \u001b[0mcv2\u001b[0m\u001b[0;34m.\u001b[0m\u001b[0mwaitKey\u001b[0m\u001b[0;34m(\u001b[0m\u001b[0;36m0\u001b[0m\u001b[0;34m)\u001b[0m\u001b[0;34m\u001b[0m\u001b[0;34m\u001b[0m\u001b[0m\n",
      "\u001b[0;31merror\u001b[0m: OpenCV(4.1.0) /io/opencv/modules/core/src/matrix_operations.cpp:68: error: (-215:Assertion failed) src[i].dims <= 2 && src[i].rows == src[0].rows && src[i].type() == src[0].type() in function 'hconcat'\n"
     ]
    }
   ],
   "source": [
    "fit_shape = (192,48)\n",
    "\n",
    "def image_finalizer(img):\n",
    "    new_shape = get_factored_shape(fit_shape[0],fit_shape[1],img.shape[1],img.shape[0])\n",
    "    fin_img = cv2.resize(img,new_shape,interpolation=cv2.INTER_CUBIC)\n",
    "    \n",
    "    new_shape = np.array(new_shape)\n",
    "    embedd = np.full((fit_shape[1],fit_shape[0]),255,dtype=np.uint8)\n",
    "    x = np.random.randint(0,fit_shape[0]-new_shape[0]+1,size=1)\n",
    "    y = np.random.randint(0,fit_shape[1]-new_shape[1]+1,size=1)\n",
    "    \n",
    "    x,y = x[0],y[0]\n",
    "    embedd[y:y+new_shape[1],x:x+new_shape[0]] = fin_img\n",
    "    \n",
    "    \n",
    "    return embedd\n",
    "\n",
    "\n",
    "for img in images:\n",
    "    img1 = cv2.imread(img,cv2.IMREAD_GRAYSCALE)\n",
    "    img2 = image_finalizer(img1)\n",
    "    print(img1.shape)\n",
    "    print(img2.shape)\n",
    "    \n",
    "    \n",
    "    cv2.imshow(\"image1\",img1)\n",
    "    cv2.imshow(\"image1\",img2)\n",
    "    cv2.waitKey(0)\n",
    "    cv2.destroyAllWindows()\n",
    "\n",
    "# print(np.array(avg))\n",
    "# print(np.mean(avg,axis=0))"
   ]
  },
  {
   "cell_type": "code",
   "execution_count": 25,
   "metadata": {},
   "outputs": [
    {
     "name": "stdout",
     "output_type": "stream",
     "text": [
      "/home/ashish/gdrive/Machine Learning/Projects_ML/Document_reader/data_words/ascii\n"
     ]
    }
   ],
   "source": [
    "path_labels = os.path.abspath(\".\")\n",
    "path_labels = os.path.join(path_labels,'ascii')\n",
    "print(path_labels)"
   ]
  },
  {
   "cell_type": "code",
   "execution_count": null,
   "metadata": {},
   "outputs": [],
   "source": []
  }
 ],
 "metadata": {
  "kernelspec": {
   "display_name": "Python 3",
   "language": "python",
   "name": "python3"
  },
  "language_info": {
   "codemirror_mode": {
    "name": "ipython",
    "version": 3
   },
   "file_extension": ".py",
   "mimetype": "text/x-python",
   "name": "python",
   "nbconvert_exporter": "python",
   "pygments_lexer": "ipython3",
   "version": "3.6.9"
  }
 },
 "nbformat": 4,
 "nbformat_minor": 4
}
