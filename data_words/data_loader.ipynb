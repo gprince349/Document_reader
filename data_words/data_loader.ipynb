{
 "cells": [
  {
   "cell_type": "code",
   "execution_count": 1,
   "metadata": {},
   "outputs": [],
   "source": [
    "import numpy as np \n",
    "import pandas as pd \n",
    "import cv2\n",
    "import h5py\n",
    "import os\n"
   ]
  },
  {
   "cell_type": "code",
   "execution_count": 5,
   "metadata": {},
   "outputs": [
    {
     "name": "stderr",
     "output_type": "stream",
     "text": [
      "/home/ashish/.local/lib/python3.6/site-packages/ipykernel_launcher.py:3: H5pyDeprecationWarning: dataset.value has been deprecated. Use dataset[()] instead.\n",
      "  This is separate from the ipykernel package so we can avoid doing imports until\n",
      "/home/ashish/.local/lib/python3.6/site-packages/ipykernel_launcher.py:4: H5pyDeprecationWarning: dataset.value has been deprecated. Use dataset[()] instead.\n",
      "  after removing the cwd from sys.path.\n",
      "/home/ashish/.local/lib/python3.6/site-packages/ipykernel_launcher.py:5: H5pyDeprecationWarning: dataset.value has been deprecated. Use dataset[()] instead.\n",
      "  \"\"\"\n",
      "/home/ashish/.local/lib/python3.6/site-packages/ipykernel_launcher.py:6: H5pyDeprecationWarning: dataset.value has been deprecated. Use dataset[()] instead.\n",
      "  \n"
     ]
    }
   ],
   "source": [
    "def load_datasetX():\n",
    "    with h5py.File(\"final_data.h5\",\"r\") as hf:\n",
    "        X1 = hf['.'][\"X1\"].value\n",
    "        X2 = hf['.'][\"X2\"].value\n",
    "        X3 = hf['.'][\"X3\"].value\n",
    "        X4 = hf['.'][\"X4\"].value\n",
    "\n",
    "       \n",
    "    \n",
    "    return X1,X2,X3,X4\n",
    "\n",
    "\n",
    "X1,X2,X3,X4 = load_datasetX()\n",
    "\n",
    "    "
   ]
  },
  {
   "cell_type": "code",
   "execution_count": 6,
   "metadata": {},
   "outputs": [
    {
     "name": "stderr",
     "output_type": "stream",
     "text": [
      "/home/ashish/.local/lib/python3.6/site-packages/ipykernel_launcher.py:3: H5pyDeprecationWarning: dataset.value has been deprecated. Use dataset[()] instead.\n",
      "  This is separate from the ipykernel package so we can avoid doing imports until\n",
      "/home/ashish/.local/lib/python3.6/site-packages/ipykernel_launcher.py:4: H5pyDeprecationWarning: dataset.value has been deprecated. Use dataset[()] instead.\n",
      "  after removing the cwd from sys.path.\n",
      "/home/ashish/.local/lib/python3.6/site-packages/ipykernel_launcher.py:5: H5pyDeprecationWarning: dataset.value has been deprecated. Use dataset[()] instead.\n",
      "  \"\"\"\n",
      "/home/ashish/.local/lib/python3.6/site-packages/ipykernel_launcher.py:6: H5pyDeprecationWarning: dataset.value has been deprecated. Use dataset[()] instead.\n",
      "  \n"
     ]
    }
   ],
   "source": [
    "def load_datasetY():\n",
    "    with h5py.File(\"final_dataY.h5\",\"r\") as hf:\n",
    "        Y1 = hf['.'][\"Y1\"].value\n",
    "        Y2 = hf['.'][\"Y2\"].value\n",
    "        Y3 = hf['.'][\"Y3\"].value\n",
    "        Y4 = hf['.'][\"Y4\"].value\n",
    "    \n",
    "    return Y1,Y2,Y3,Y4\n",
    "\n",
    "Y1,Y2,Y3,Y4 = load_datasetY()"
   ]
  },
  {
   "cell_type": "code",
   "execution_count": 11,
   "metadata": {},
   "outputs": [
    {
     "name": "stdout",
     "output_type": "stream",
     "text": [
      "['Prosecutions']\n",
      "['I']\n",
      "['know']\n",
      "['pretty']\n",
      "['well']\n",
      "[',']\n",
      "['and']\n",
      "['he']\n",
      "['agreed']\n",
      "['that']\n"
     ]
    }
   ],
   "source": [
    "for i in range(10):\n",
    "    cv2.imshow(\"ad\",X4[i])\n",
    "    print(Y4[i])\n",
    "    cv2.waitKey(2000)\n",
    "    cv2.destroyAllWindows()"
   ]
  },
  {
   "cell_type": "code",
   "execution_count": null,
   "metadata": {},
   "outputs": [],
   "source": []
  }
 ],
 "metadata": {
  "kernelspec": {
   "display_name": "Python 3",
   "language": "python",
   "name": "python3"
  },
  "language_info": {
   "codemirror_mode": {
    "name": "ipython",
    "version": 3
   },
   "file_extension": ".py",
   "mimetype": "text/x-python",
   "name": "python",
   "nbconvert_exporter": "python",
   "pygments_lexer": "ipython3",
   "version": "3.6.9"
  }
 },
 "nbformat": 4,
 "nbformat_minor": 4
}
